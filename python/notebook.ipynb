{
 "nbformat": 4,
 "nbformat_minor": 2,
 "metadata": {
  "language_info": {
   "name": "python",
   "codemirror_mode": {
    "name": "ipython",
    "version": 3
   },
   "version": "3.6.9-final"
  },
  "orig_nbformat": 2,
  "file_extension": ".py",
  "mimetype": "text/x-python",
  "name": "python",
  "npconvert_exporter": "python",
  "pygments_lexer": "ipython3",
  "version": 3,
  "kernelspec": {
   "name": "python36964bit8551a666513d46aa91876def0596f641",
   "display_name": "Python 3.6.9 64-bit"
  }
 },
 "cells": [
  {
   "cell_type": "markdown",
   "metadata": {},
   "source": [
    "# Test Using VSCode Jupyter\n"
   ]
  },
  {
   "cell_type": "code",
   "execution_count": 100,
   "metadata": {},
   "outputs": [
    {
     "output_type": "execute_result",
     "data": {
      "text/plain": "                                                1/22/20  1/23/20  1/24/20  \\\nProvince/State Country/Region Lat      Long                                 \nNaN            Afghanistan     33.0000 65.0000        0        0        0   \n               Albania         41.1533 20.1683        0        0        0   \n               Algeria         28.0339 1.6596         0        0        0   \n               Andorra         42.5063 1.5218         0        0        0   \n               Angola         -11.2027 17.8739        0        0        0   \n\n                                                1/25/20  1/26/20  1/27/20  \\\nProvince/State Country/Region Lat      Long                                 \nNaN            Afghanistan     33.0000 65.0000        0        0        0   \n               Albania         41.1533 20.1683        0        0        0   \n               Algeria         28.0339 1.6596         0        0        0   \n               Andorra         42.5063 1.5218         0        0        0   \n               Angola         -11.2027 17.8739        0        0        0   \n\n                                                1/28/20  1/29/20  1/30/20  \\\nProvince/State Country/Region Lat      Long                                 \nNaN            Afghanistan     33.0000 65.0000        0        0        0   \n               Albania         41.1533 20.1683        0        0        0   \n               Algeria         28.0339 1.6596         0        0        0   \n               Andorra         42.5063 1.5218         0        0        0   \n               Angola         -11.2027 17.8739        0        0        0   \n\n                                                1/31/20  ...  4/7/20  4/8/20  \\\nProvince/State Country/Region Lat      Long              ...                   \nNaN            Afghanistan     33.0000 65.0000        0  ...     423     444   \n               Albania         41.1533 20.1683        0  ...     383     400   \n               Algeria         28.0339 1.6596         0  ...    1468    1572   \n               Andorra         42.5063 1.5218         0  ...     545     564   \n               Angola         -11.2027 17.8739        0  ...      17      19   \n\n                                                4/9/20  4/10/20  4/11/20  \\\nProvince/State Country/Region Lat      Long                                \nNaN            Afghanistan     33.0000 65.0000     484      521      555   \n               Albania         41.1533 20.1683     409      416      433   \n               Algeria         28.0339 1.6596     1666     1761     1825   \n               Andorra         42.5063 1.5218      583      601      601   \n               Angola         -11.2027 17.8739      19       19       19   \n\n                                                4/12/20  4/13/20  4/14/20  \\\nProvince/State Country/Region Lat      Long                                 \nNaN            Afghanistan     33.0000 65.0000      607      665      714   \n               Albania         41.1533 20.1683      446      467      475   \n               Algeria         28.0339 1.6596      1914     1983     2070   \n               Andorra         42.5063 1.5218       638      646      659   \n               Angola         -11.2027 17.8739       19       19       19   \n\n                                                4/15/20  4/16/20  \nProvince/State Country/Region Lat      Long                       \nNaN            Afghanistan     33.0000 65.0000      784      840  \n               Albania         41.1533 20.1683      494      518  \n               Algeria         28.0339 1.6596      2160     2268  \n               Andorra         42.5063 1.5218       673      673  \n               Angola         -11.2027 17.8739       19       19  \n\n[5 rows x 86 columns]",
      "text/html": "<div>\n<style scoped>\n    .dataframe tbody tr th:only-of-type {\n        vertical-align: middle;\n    }\n\n    .dataframe tbody tr th {\n        vertical-align: top;\n    }\n\n    .dataframe thead th {\n        text-align: right;\n    }\n</style>\n<table border=\"1\" class=\"dataframe\">\n  <thead>\n    <tr style=\"text-align: right;\">\n      <th></th>\n      <th></th>\n      <th></th>\n      <th></th>\n      <th>1/22/20</th>\n      <th>1/23/20</th>\n      <th>1/24/20</th>\n      <th>1/25/20</th>\n      <th>1/26/20</th>\n      <th>1/27/20</th>\n      <th>1/28/20</th>\n      <th>1/29/20</th>\n      <th>1/30/20</th>\n      <th>1/31/20</th>\n      <th>...</th>\n      <th>4/7/20</th>\n      <th>4/8/20</th>\n      <th>4/9/20</th>\n      <th>4/10/20</th>\n      <th>4/11/20</th>\n      <th>4/12/20</th>\n      <th>4/13/20</th>\n      <th>4/14/20</th>\n      <th>4/15/20</th>\n      <th>4/16/20</th>\n    </tr>\n    <tr>\n      <th>Province/State</th>\n      <th>Country/Region</th>\n      <th>Lat</th>\n      <th>Long</th>\n      <th></th>\n      <th></th>\n      <th></th>\n      <th></th>\n      <th></th>\n      <th></th>\n      <th></th>\n      <th></th>\n      <th></th>\n      <th></th>\n      <th></th>\n      <th></th>\n      <th></th>\n      <th></th>\n      <th></th>\n      <th></th>\n      <th></th>\n      <th></th>\n      <th></th>\n      <th></th>\n      <th></th>\n    </tr>\n  </thead>\n  <tbody>\n    <tr>\n      <th rowspan=\"5\" valign=\"top\">NaN</th>\n      <th>Afghanistan</th>\n      <th>33.0000</th>\n      <th>65.0000</th>\n      <td>0</td>\n      <td>0</td>\n      <td>0</td>\n      <td>0</td>\n      <td>0</td>\n      <td>0</td>\n      <td>0</td>\n      <td>0</td>\n      <td>0</td>\n      <td>0</td>\n      <td>...</td>\n      <td>423</td>\n      <td>444</td>\n      <td>484</td>\n      <td>521</td>\n      <td>555</td>\n      <td>607</td>\n      <td>665</td>\n      <td>714</td>\n      <td>784</td>\n      <td>840</td>\n    </tr>\n    <tr>\n      <th>Albania</th>\n      <th>41.1533</th>\n      <th>20.1683</th>\n      <td>0</td>\n      <td>0</td>\n      <td>0</td>\n      <td>0</td>\n      <td>0</td>\n      <td>0</td>\n      <td>0</td>\n      <td>0</td>\n      <td>0</td>\n      <td>0</td>\n      <td>...</td>\n      <td>383</td>\n      <td>400</td>\n      <td>409</td>\n      <td>416</td>\n      <td>433</td>\n      <td>446</td>\n      <td>467</td>\n      <td>475</td>\n      <td>494</td>\n      <td>518</td>\n    </tr>\n    <tr>\n      <th>Algeria</th>\n      <th>28.0339</th>\n      <th>1.6596</th>\n      <td>0</td>\n      <td>0</td>\n      <td>0</td>\n      <td>0</td>\n      <td>0</td>\n      <td>0</td>\n      <td>0</td>\n      <td>0</td>\n      <td>0</td>\n      <td>0</td>\n      <td>...</td>\n      <td>1468</td>\n      <td>1572</td>\n      <td>1666</td>\n      <td>1761</td>\n      <td>1825</td>\n      <td>1914</td>\n      <td>1983</td>\n      <td>2070</td>\n      <td>2160</td>\n      <td>2268</td>\n    </tr>\n    <tr>\n      <th>Andorra</th>\n      <th>42.5063</th>\n      <th>1.5218</th>\n      <td>0</td>\n      <td>0</td>\n      <td>0</td>\n      <td>0</td>\n      <td>0</td>\n      <td>0</td>\n      <td>0</td>\n      <td>0</td>\n      <td>0</td>\n      <td>0</td>\n      <td>...</td>\n      <td>545</td>\n      <td>564</td>\n      <td>583</td>\n      <td>601</td>\n      <td>601</td>\n      <td>638</td>\n      <td>646</td>\n      <td>659</td>\n      <td>673</td>\n      <td>673</td>\n    </tr>\n    <tr>\n      <th>Angola</th>\n      <th>-11.2027</th>\n      <th>17.8739</th>\n      <td>0</td>\n      <td>0</td>\n      <td>0</td>\n      <td>0</td>\n      <td>0</td>\n      <td>0</td>\n      <td>0</td>\n      <td>0</td>\n      <td>0</td>\n      <td>0</td>\n      <td>...</td>\n      <td>17</td>\n      <td>19</td>\n      <td>19</td>\n      <td>19</td>\n      <td>19</td>\n      <td>19</td>\n      <td>19</td>\n      <td>19</td>\n      <td>19</td>\n      <td>19</td>\n    </tr>\n  </tbody>\n</table>\n<p>5 rows × 86 columns</p>\n</div>"
     },
     "metadata": {},
     "execution_count": 100
    }
   ],
   "source": [
    "# Load the Pandas libraries with alias 'pd' \n",
    "import pandas as pd \n",
    "# Read data from GitHub and set index cols for stack()\n",
    "tsdata = pd.read_csv(\n",
    "    \"https://raw.githubusercontent.com/CSSEGISandData/COVID-19/master/csse_covid_19_data/csse_covid_19_time_series/time_series_covid19_confirmed_global.csv\"\n",
    ") \n",
    "# Add multi column index for stacking the date columns into rows\n",
    "tsdata_index = tsdata.set_index(['Province/State','Country/Region','Lat','Long']\n",
    ")\n",
    "# Preview the first 5 lines of the loaded data \n",
    "tsdata_index.head()"
   ]
  },
  {
   "cell_type": "code",
   "execution_count": 102,
   "metadata": {},
   "outputs": [
    {
     "output_type": "execute_result",
     "data": {
      "text/plain": "Province/State  Country/Region  Lat        Long              \nNaN             Afghanistan     33.000000  65.000000  1/22/20    0\n                                                      1/23/20    0\n                                                      1/24/20    0\n                                                      1/25/20    0\n                                                      1/26/20    0\n                                                                ..\n                Yemen           15.552727  48.516388  4/12/20    1\n                                                      4/13/20    1\n                                                      4/14/20    1\n                                                      4/15/20    1\n                                                      4/16/20    1\nLength: 22704, dtype: int64"
     },
     "metadata": {},
     "execution_count": 102
    }
   ],
   "source": [
    "# stack date columns into rows\n",
    "tsdata_stack = tsdata_index.stack()\n",
    "tsdata_stack\n",
    "\n",
    ""
   ]
  },
  {
   "cell_type": "code",
   "execution_count": 103,
   "metadata": {},
   "outputs": [],
   "source": [
    "\n",
    "# Reset the index to repeat the index values\n",
    "tsdata_stack = tsdata_stack.reset_index()\n",
    "tsdata_stack.rename(columns={'level_0':'row_id','Province/State':'prov_state','Country/Region':'country','Lat':'lat','Long':'lon','level_4':'date_char',0:\"cases\"}, inplace=True)\n",
    "\n",
    "\n",
    ""
   ]
  },
  {
   "cell_type": "code",
   "execution_count": 105,
   "metadata": {},
   "outputs": [
    {
     "output_type": "execute_result",
     "data": {
      "text/plain": "      prov_state      country        lat        lon date_char  cases\n0            NaN  Afghanistan  33.000000  65.000000   1/22/20      0\n1            NaN  Afghanistan  33.000000  65.000000   1/23/20      0\n2            NaN  Afghanistan  33.000000  65.000000   1/24/20      0\n3            NaN  Afghanistan  33.000000  65.000000   1/25/20      0\n4            NaN  Afghanistan  33.000000  65.000000   1/26/20      0\n...          ...          ...        ...        ...       ...    ...\n22699        NaN        Yemen  15.552727  48.516388   4/12/20      1\n22700        NaN        Yemen  15.552727  48.516388   4/13/20      1\n22701        NaN        Yemen  15.552727  48.516388   4/14/20      1\n22702        NaN        Yemen  15.552727  48.516388   4/15/20      1\n22703        NaN        Yemen  15.552727  48.516388   4/16/20      1\n\n[22704 rows x 6 columns]",
      "text/html": "<div>\n<style scoped>\n    .dataframe tbody tr th:only-of-type {\n        vertical-align: middle;\n    }\n\n    .dataframe tbody tr th {\n        vertical-align: top;\n    }\n\n    .dataframe thead th {\n        text-align: right;\n    }\n</style>\n<table border=\"1\" class=\"dataframe\">\n  <thead>\n    <tr style=\"text-align: right;\">\n      <th></th>\n      <th>prov_state</th>\n      <th>country</th>\n      <th>lat</th>\n      <th>lon</th>\n      <th>date_char</th>\n      <th>cases</th>\n    </tr>\n  </thead>\n  <tbody>\n    <tr>\n      <th>0</th>\n      <td>NaN</td>\n      <td>Afghanistan</td>\n      <td>33.000000</td>\n      <td>65.000000</td>\n      <td>1/22/20</td>\n      <td>0</td>\n    </tr>\n    <tr>\n      <th>1</th>\n      <td>NaN</td>\n      <td>Afghanistan</td>\n      <td>33.000000</td>\n      <td>65.000000</td>\n      <td>1/23/20</td>\n      <td>0</td>\n    </tr>\n    <tr>\n      <th>2</th>\n      <td>NaN</td>\n      <td>Afghanistan</td>\n      <td>33.000000</td>\n      <td>65.000000</td>\n      <td>1/24/20</td>\n      <td>0</td>\n    </tr>\n    <tr>\n      <th>3</th>\n      <td>NaN</td>\n      <td>Afghanistan</td>\n      <td>33.000000</td>\n      <td>65.000000</td>\n      <td>1/25/20</td>\n      <td>0</td>\n    </tr>\n    <tr>\n      <th>4</th>\n      <td>NaN</td>\n      <td>Afghanistan</td>\n      <td>33.000000</td>\n      <td>65.000000</td>\n      <td>1/26/20</td>\n      <td>0</td>\n    </tr>\n    <tr>\n      <th>...</th>\n      <td>...</td>\n      <td>...</td>\n      <td>...</td>\n      <td>...</td>\n      <td>...</td>\n      <td>...</td>\n    </tr>\n    <tr>\n      <th>22699</th>\n      <td>NaN</td>\n      <td>Yemen</td>\n      <td>15.552727</td>\n      <td>48.516388</td>\n      <td>4/12/20</td>\n      <td>1</td>\n    </tr>\n    <tr>\n      <th>22700</th>\n      <td>NaN</td>\n      <td>Yemen</td>\n      <td>15.552727</td>\n      <td>48.516388</td>\n      <td>4/13/20</td>\n      <td>1</td>\n    </tr>\n    <tr>\n      <th>22701</th>\n      <td>NaN</td>\n      <td>Yemen</td>\n      <td>15.552727</td>\n      <td>48.516388</td>\n      <td>4/14/20</td>\n      <td>1</td>\n    </tr>\n    <tr>\n      <th>22702</th>\n      <td>NaN</td>\n      <td>Yemen</td>\n      <td>15.552727</td>\n      <td>48.516388</td>\n      <td>4/15/20</td>\n      <td>1</td>\n    </tr>\n    <tr>\n      <th>22703</th>\n      <td>NaN</td>\n      <td>Yemen</td>\n      <td>15.552727</td>\n      <td>48.516388</td>\n      <td>4/16/20</td>\n      <td>1</td>\n    </tr>\n  </tbody>\n</table>\n<p>22704 rows × 6 columns</p>\n</div>"
     },
     "metadata": {},
     "execution_count": 105
    }
   ],
   "source": [
    "tsdata_stack"
   ]
  },
  {
   "cell_type": "code",
   "execution_count": 106,
   "metadata": {},
   "outputs": [
    {
     "output_type": "execute_result",
     "data": {
      "text/plain": "Index(['prov_state', 'country', 'lat', 'lon', 'date_char', 'cases'], dtype='object')"
     },
     "metadata": {},
     "execution_count": 106
    }
   ],
   "source": [
    "tsdata_stack.columns"
   ]
  },
  {
   "cell_type": "code",
   "execution_count": null,
   "metadata": {},
   "outputs": [],
   "source": []
  }
 ]
}